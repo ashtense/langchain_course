{
 "cells": [
  {
   "cell_type": "code",
   "execution_count": 2,
   "metadata": {},
   "outputs": [],
   "source": [
    "def lookup(name: str) -> str:\n",
    "    print(\"Ashwani Solanki\")\n",
    "    return \"Linkedin profile URl\""
   ]
  },
  {
   "cell_type": "code",
   "execution_count": 3,
   "metadata": {},
   "outputs": [],
   "source": [
    "from langchain import PromptTemplate\n",
    "from langchain.chat_models import ChatOpenAI\n",
    "from langchain.agents import initialize_agent, Tool, AgentType"
   ]
  },
  {
   "cell_type": "code",
   "execution_count": 1,
   "metadata": {},
   "outputs": [],
   "source": [
    "template = \"\"\"\n",
    "    Given the full name {name_of_person} I want you to get it me a link to their \n",
    "    Linkedin profile page. \n",
    "    Your answer should definitely contain only a URL\n",
    "\"\"\""
   ]
  },
  {
   "cell_type": "code",
   "execution_count": null,
   "metadata": {},
   "outputs": [],
   "source": [
    "tools_for_agent = [Tool(name = \"Crawl google 4 linkedin profile page\", func = \"?\", \n",
    "    description = \"Useful for when you want to find someone's linked profile url directly\")]"
   ]
  },
  {
   "cell_type": "code",
   "execution_count": null,
   "metadata": {},
   "outputs": [],
   "source": [
    "llm = ChatOpenAI(\n",
    "        temperature=0,\n",
    "        model_name=\"gpt-3.5-turbo\",\n",
    "    )\n",
    "\n",
    "initialize_agent()"
   ]
  }
 ],
 "metadata": {
  "kernelspec": {
   "display_name": "ice_breaker-1-start-here-8exQ9Ucd",
   "language": "python",
   "name": "python3"
  },
  "language_info": {
   "codemirror_mode": {
    "name": "ipython",
    "version": 3
   },
   "file_extension": ".py",
   "mimetype": "text/x-python",
   "name": "python",
   "nbconvert_exporter": "python",
   "pygments_lexer": "ipython3",
   "version": "3.11.3"
  },
  "orig_nbformat": 4
 },
 "nbformat": 4,
 "nbformat_minor": 2
}
